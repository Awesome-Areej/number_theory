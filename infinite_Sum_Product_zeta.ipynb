{
  "nbformat": 4,
  "nbformat_minor": 0,
  "metadata": {
    "colab": {
      "name": "infinite_Sum_Product_zeta.ipynb",
      "provenance": [],
      "authorship_tag": "ABX9TyORAR3Dmtr0zQZ4Fg8Rlf/9",
      "include_colab_link": true
    },
    "kernelspec": {
      "name": "python3",
      "display_name": "Python 3"
    },
    "language_info": {
      "name": "python"
    }
  },
  "cells": [
    {
      "cell_type": "markdown",
      "metadata": {
        "id": "view-in-github",
        "colab_type": "text"
      },
      "source": [
        "<a href=\"https://colab.research.google.com/github/Awesome-Areej/number_theory/blob/main/infinite_Sum_Product_zeta.ipynb\" target=\"_parent\"><img src=\"https://colab.research.google.com/assets/colab-badge.svg\" alt=\"Open In Colab\"/></a>"
      ]
    },
    {
      "cell_type": "code",
      "source": [
        ""
      ],
      "metadata": {
        "id": "STPzsYGLWlj-"
      },
      "execution_count": 258,
      "outputs": []
    },
    {
      "cell_type": "code",
      "execution_count": 259,
      "metadata": {
        "id": "MbNjjBMVWdN9"
      },
      "outputs": [],
      "source": [
        "def is_prime(n):\n",
        "  if n ==1 or n ==0:\n",
        "    return False\n",
        "  for i in range(2, int(n/2)+1):\n",
        "    if n%i==0:\n",
        "      return False\n",
        "  return True"
      ]
    },
    {
      "cell_type": "code",
      "source": [
        "def list_of_primes(n =100): \n",
        "  global res\n",
        "  res = []\n",
        "  for i in range(n):\n",
        "    if is_prime(i) == True:\n",
        "      res.append(i)\n",
        "  return res"
      ],
      "metadata": {
        "id": "mZeGIoYfWfXI"
      },
      "execution_count": 260,
      "outputs": []
    },
    {
      "cell_type": "code",
      "source": [
        "def infinite_product(x):\n",
        "  result = 1\n",
        "  for i in range(len(res)):\n",
        "    p = res[i]\n",
        "    result *= (1/(1-(1/(p**x))))\n",
        "  return result"
      ],
      "metadata": {
        "id": "SDDaJQpIW7KI"
      },
      "execution_count": 261,
      "outputs": []
    },
    {
      "cell_type": "code",
      "source": [
        ""
      ],
      "metadata": {
        "id": "IBe8fbdpb-4-"
      },
      "execution_count": 261,
      "outputs": []
    },
    {
      "cell_type": "code",
      "source": [
        "infinite_product(-0.5)\n",
        "#as value_of_exponent goes to 54, result goes to 1"
      ],
      "metadata": {
        "colab": {
          "base_uri": "https://localhost:8080/"
        },
        "id": "tv2jXolcX__2",
        "outputId": "a264a1ef-3e59-4d43-f233-640f72977a0a"
      },
      "execution_count": 262,
      "outputs": [
        {
          "output_type": "execute_result",
          "data": {
            "text/plain": [
              "3.566357137076076e-202"
            ]
          },
          "metadata": {},
          "execution_count": 262
        }
      ]
    },
    {
      "cell_type": "code",
      "source": [
        "def infinite_sum(x):\n",
        "  answer = 1\n",
        "  for i in range(2, len(res)):\n",
        "    answer += 1/i**x\n",
        "  return answer"
      ],
      "metadata": {
        "id": "th0m-vJmYDHD"
      },
      "execution_count": 263,
      "outputs": []
    },
    {
      "cell_type": "code",
      "source": [
        "infinite_sum(-0.5)"
      ],
      "metadata": {
        "colab": {
          "base_uri": "https://localhost:8080/"
        },
        "id": "iZbGt0rwYj97",
        "outputId": "1ec1fe4e-9a8e-4945-ea5a-9e1fd5339198"
      },
      "execution_count": 264,
      "outputs": [
        {
          "output_type": "execute_result",
          "data": {
            "text/plain": [
              "1445.0005041716763"
            ]
          },
          "metadata": {},
          "execution_count": 264
        }
      ]
    },
    {
      "cell_type": "code",
      "source": [
        "x = 4343\n",
        "infinite_sum(x) - infinite_product(x)"
      ],
      "metadata": {
        "colab": {
          "base_uri": "https://localhost:8080/"
        },
        "id": "ONT_ePiNY17n",
        "outputId": "9790fec7-d54a-474d-e34d-e72a8cdbea21"
      },
      "execution_count": 265,
      "outputs": [
        {
          "output_type": "execute_result",
          "data": {
            "text/plain": [
              "0.0"
            ]
          },
          "metadata": {},
          "execution_count": 265
        }
      ]
    },
    {
      "cell_type": "code",
      "source": [
        " "
      ],
      "metadata": {
        "id": "LzwktXdPaAtP"
      },
      "execution_count": null,
      "outputs": []
    },
    {
      "cell_type": "code",
      "source": [
        ""
      ],
      "metadata": {
        "id": "JHOTYifCdmtz"
      },
      "execution_count": null,
      "outputs": []
    }
  ]
}